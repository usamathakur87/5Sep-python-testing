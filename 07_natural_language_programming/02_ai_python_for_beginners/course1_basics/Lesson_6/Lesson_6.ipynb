{
  "cells": [
    {
      "cell_type": "markdown",
      "metadata": {
        "id": "vbNE3YKRofgE"
      },
      "source": [
        "# Lesson 6: Data in Python"
      ]
    },
    {
      "cell_type": "markdown",
      "metadata": {
        "id": "-04Ahd3CofgI"
      },
      "source": [
        "There are different types of data in Python. Here, you will see how text and numbers are used in Python."
      ]
    },
    {
      "cell_type": "markdown",
      "metadata": {
        "id": "w-d_elV8ofgJ"
      },
      "source": [
        "## Strings"
      ]
    },
    {
      "cell_type": "markdown",
      "metadata": {
        "id": "CKTOECzjofgJ"
      },
      "source": [
        "Strings are used to store and manipulate text. As you see here, strings are written inside of quotes and can contain letters, numbers, punctuation marks, and other special characters. Run the following cells to print these four different strings."
      ]
    },
    {
      "cell_type": "code",
      "execution_count": 1,
      "metadata": {
        "id": "GZzfYzbLofgK",
        "outputId": "3c8641b0-5ed4-4672-fff8-a47368f9b86d",
        "colab": {
          "base_uri": "https://localhost:8080/"
        }
      },
      "outputs": [
        {
          "output_type": "stream",
          "name": "stdout",
          "text": [
            "Hello, World\n"
          ]
        }
      ],
      "source": [
        "print(\"Hello, World\")"
      ]
    },
    {
      "cell_type": "code",
      "execution_count": 2,
      "metadata": {
        "id": "N1SV0YAWofgL",
        "outputId": "06408039-1189-451a-d6bc-7cbe205192fc",
        "colab": {
          "base_uri": "https://localhost:8080/"
        }
      },
      "outputs": [
        {
          "output_type": "stream",
          "name": "stdout",
          "text": [
            "My favorite drink is Earl Grey tea.\n"
          ]
        }
      ],
      "source": [
        "print(\"My favorite drink is Earl Grey tea.\")"
      ]
    },
    {
      "cell_type": "code",
      "execution_count": 3,
      "metadata": {
        "id": "jz1NPNCLofgL",
        "outputId": "97132811-0535-4f2d-f6b1-b70da9e99e5a",
        "colab": {
          "base_uri": "https://localhost:8080/"
        }
      },
      "outputs": [
        {
          "output_type": "stream",
          "name": "stdout",
          "text": [
            "¯\\_(ツ)_/¯\n"
          ]
        }
      ],
      "source": [
        "print(\"¯\\_(ツ)_/¯\")"
      ]
    },
    {
      "cell_type": "code",
      "execution_count": 15,
      "metadata": {
        "id": "pKnsJcDZofgM",
        "outputId": "6dca64fe-0fef-4268-9041-d80183efb20f",
        "colab": {
          "base_uri": "https://localhost:8080/"
        }
      },
      "outputs": [
        {
          "output_type": "execute_result",
          "data": {
            "text/plain": [
              "int"
            ]
          },
          "metadata": {},
          "execution_count": 15
        }
      ],
      "source": [
        "type(2)"
      ]
    },
    {
      "cell_type": "markdown",
      "metadata": {
        "id": "Dhd_j8n3ofgM"
      },
      "source": [
        "## Multiline strings"
      ]
    },
    {
      "cell_type": "markdown",
      "metadata": {
        "id": "gh62q0ZvofgN"
      },
      "source": [
        "If you use triple quotation marks, you can store a multiline string. These strings can span more than one line. When you run the following cell, you will see how the spaces in the second line are actually read as characters for the string."
      ]
    },
    {
      "cell_type": "code",
      "execution_count": 10,
      "metadata": {
        "id": "yc0wXhJMofgN",
        "outputId": "d6aa8c08-367c-403e-e0bc-f946c17c47d7",
        "colab": {
          "base_uri": "https://localhost:8080/",
          "height": 36
        }
      },
      "outputs": [
        {
          "output_type": "execute_result",
          "data": {
            "text/plain": [
              "\"Hello, World!\\n       It's great to be here!\""
            ],
            "application/vnd.google.colaboratory.intrinsic+json": {
              "type": "string"
            }
          },
          "metadata": {},
          "execution_count": 10
        }
      ],
      "source": [
        "\"\"\"Hello, World!\n",
        "       It's great to be here!\"\"\""
      ]
    },
    {
      "cell_type": "code",
      "source": [
        "print(\"\"\"Hello, World!\n",
        "       It's great to be here!\"\"\")"
      ],
      "metadata": {
        "id": "Mvy1uG1BukV5",
        "outputId": "f2ec548a-d311-47e0-edb1-a4dbf240c145",
        "colab": {
          "base_uri": "https://localhost:8080/"
        }
      },
      "execution_count": 12,
      "outputs": [
        {
          "output_type": "stream",
          "name": "stdout",
          "text": [
            "Hello, World!\n",
            "       It's great to be here!\n"
          ]
        }
      ]
    },
    {
      "cell_type": "markdown",
      "metadata": {
        "id": "_2mDNQ0rofgN"
      },
      "source": [
        "Trying to define a multiline string using single quotes will lead to errors."
      ]
    },
    {
      "cell_type": "code",
      "execution_count": 3,
      "metadata": {
        "id": "qTaq-0MdofgN",
        "outputId": "7a546e04-8d58-41be-e729-daccce144d39",
        "colab": {
          "base_uri": "https://localhost:8080/"
        }
      },
      "outputs": [
        {
          "output_type": "stream",
          "name": "stdout",
          "text": [
            "Hello, World!\n",
            "      It's \"great\" to be here!\n"
          ]
        }
      ],
      "source": [
        "print('''Hello, World!\n",
        "      It's \"great\" to be here!''')"
      ]
    },
    {
      "cell_type": "markdown",
      "metadata": {
        "id": "F4w2HDa-ofgO"
      },
      "source": [
        "## The type() function"
      ]
    },
    {
      "cell_type": "markdown",
      "metadata": {
        "id": "N54diad0ofgO"
      },
      "source": [
        "In Python, you can check the type of any data that you are using. To check the data type, you can use the `type()` function. When you run the next cell, you will retrieve the type for the string `\"Andrew\"`."
      ]
    },
    {
      "cell_type": "code",
      "execution_count": 16,
      "metadata": {
        "id": "2R9rQlN6ofgO",
        "outputId": "8b8313b9-56c8-4021-acbf-bc7e6aa6f0b1",
        "colab": {
          "base_uri": "https://localhost:8080/"
        }
      },
      "outputs": [
        {
          "output_type": "execute_result",
          "data": {
            "text/plain": [
              "str"
            ]
          },
          "metadata": {},
          "execution_count": 16
        }
      ],
      "source": [
        "type(\"Andrew\")"
      ]
    },
    {
      "cell_type": "markdown",
      "metadata": {
        "id": "auBp9d7XofgO"
      },
      "source": [
        "Python returned `str`, which is short for string. Let's check the type for a multiline string:"
      ]
    },
    {
      "cell_type": "code",
      "execution_count": 17,
      "metadata": {
        "id": "b2b5R6RmofgP",
        "outputId": "eba5c30a-a285-4ad9-927f-b51936d091f9",
        "colab": {
          "base_uri": "https://localhost:8080/"
        }
      },
      "outputs": [
        {
          "output_type": "execute_result",
          "data": {
            "text/plain": [
              "str"
            ]
          },
          "metadata": {},
          "execution_count": 17
        }
      ],
      "source": [
        "type(\"\"\"\n",
        "Numbers, text, and truth,\n",
        "Strings, ints, and floats in our code,\n",
        "Data shapes our path\n",
        "\"\"\")"
      ]
    },
    {
      "cell_type": "markdown",
      "metadata": {
        "id": "8g_MFVvhofgP"
      },
      "source": [
        "This also returns `str`, since it is also a string. Let's try a number within quotation marks:"
      ]
    },
    {
      "cell_type": "code",
      "execution_count": 18,
      "metadata": {
        "id": "W4IHGFRDofgP",
        "outputId": "fbe9a0f1-81c5-4c37-efd6-ad61a43546bc",
        "colab": {
          "base_uri": "https://localhost:8080/"
        }
      },
      "outputs": [
        {
          "output_type": "execute_result",
          "data": {
            "text/plain": [
              "str"
            ]
          },
          "metadata": {},
          "execution_count": 18
        }
      ],
      "source": [
        "type(\"2.99\")"
      ]
    },
    {
      "cell_type": "markdown",
      "metadata": {
        "id": "_JRa-rtTofgQ"
      },
      "source": [
        "This is also a string, even though it looks like a number. By using quotation marks you're telling Python to treat it as text, rather than a number. What about a number without quotes?"
      ]
    },
    {
      "cell_type": "code",
      "execution_count": 21,
      "metadata": {
        "id": "hwk2dq_RofgQ",
        "outputId": "9c6f140c-0756-43c4-9021-92216a07c5e8",
        "colab": {
          "base_uri": "https://localhost:8080/"
        }
      },
      "outputs": [
        {
          "output_type": "execute_result",
          "data": {
            "text/plain": [
              "int"
            ]
          },
          "metadata": {},
          "execution_count": 21
        }
      ],
      "source": [
        "type(-100)"
      ]
    },
    {
      "cell_type": "markdown",
      "metadata": {
        "id": "4IDWV8vaofgQ"
      },
      "source": [
        "This time you get `int`, which is short for integer. Integers are the positive and negative whole numbers, like 42, 100, -9, and 0. Since there are no quotes around the number Python assumes this is numerical data, and since there is no decimal place on this number, it interprets it as an integer. Now, let's try a number that does have decimal places:"
      ]
    },
    {
      "cell_type": "code",
      "execution_count": 20,
      "metadata": {
        "id": "6H9lz-LFofgQ",
        "outputId": "d341a864-cd94-498a-c58d-c70a70aefd53",
        "colab": {
          "base_uri": "https://localhost:8080/"
        }
      },
      "outputs": [
        {
          "output_type": "execute_result",
          "data": {
            "text/plain": [
              "float"
            ]
          },
          "metadata": {},
          "execution_count": 20
        }
      ],
      "source": [
        "type(2.99)"
      ]
    },
    {
      "cell_type": "markdown",
      "metadata": {
        "id": "MR4ORdDEofgR"
      },
      "source": [
        "The function type gives `float`, which is the data type used to store floating point numbers. Floating point numbers are positive and negative numbers that include a decimal place, like 3.14, 2.99, and -0.003."
      ]
    },
    {
      "cell_type": "markdown",
      "metadata": {
        "id": "EUri4zXYofgR"
      },
      "source": [
        "## Python as a calculator!"
      ]
    },
    {
      "cell_type": "markdown",
      "metadata": {
        "id": "if1LbcP_ofgR"
      },
      "source": [
        "Python works great for quick arithmetic operations. For instance, if you had a lemonade stand, and wanted to compute the total number of sales you made through the last 12 months, you can use Python like this:"
      ]
    },
    {
      "cell_type": "code",
      "execution_count": 24,
      "metadata": {
        "id": "eVzDvqOeofgR",
        "outputId": "4f9a94a9-1e2b-4b19-ddd2-04d3c014e4e0",
        "colab": {
          "base_uri": "https://localhost:8080/"
        }
      },
      "outputs": [
        {
          "output_type": "stream",
          "name": "stdout",
          "text": [
            "-1022.2307692307693\n"
          ]
        }
      ],
      "source": [
        "print(28-35*43+50/65+70+68+66+75+80+95)"
      ]
    },
    {
      "cell_type": "code",
      "source": [
        "# prompt: print(28-35*43+50/65+70+68+66+75+80+95) with comments on every step\n",
        "\n",
        "# First step: Multiplication\n",
        "print(28 - 35 * 43 + 50 / 65 + 70 + 68 + 66 + 75 + 80 + 95)\n",
        "# Second step: Division\n",
        "print(28 - 35 * 43 + 50 / 65 + 70 + 68 + 66 + 75 + 80 + 95)\n",
        "# Third step: Multiplication\n",
        "print(28 - 35 * 43 + 50 / 65 + 70 + 68 + 66 + 75 + 80 + 95)\n",
        "# Fourth step: Addition and subtraction from left to right\n",
        "print(28 - 35 * 43 + 50 / 65 + 70 + 68 + 66 + 75 + 80 + 95)\n"
      ],
      "metadata": {
        "id": "xVqyHwZoy5K7"
      },
      "execution_count": null,
      "outputs": []
    },
    {
      "cell_type": "markdown",
      "metadata": {
        "id": "sSaQGiLWofgR"
      },
      "source": [
        "As another example, you can perform more advanced math, like computing the compound interest after 10 years at a rate of 5%. To do that, you can compute 1.05 to the power of 10. Not sure how to do it in Python? You can use the Chatbot!"
      ]
    },
    {
      "cell_type": "markdown",
      "metadata": {
        "id": "nIQisr0EofgR"
      },
      "source": [
        "<p style=\"background-color:#F5C780; padding:15px\"> 🤖 <b>Use the Chatbot</b>: How do I compute 1.05 to the power of 10?\n",
        "</p>"
      ]
    },
    {
      "cell_type": "code",
      "execution_count": 23,
      "metadata": {
        "id": "gB6USMmeofgR",
        "outputId": "803da681-af3a-4898-ec61-aba20fa19bf9",
        "colab": {
          "base_uri": "https://localhost:8080/"
        }
      },
      "outputs": [
        {
          "output_type": "stream",
          "name": "stdout",
          "text": [
            "Complete with chatbot code\n"
          ]
        }
      ],
      "source": [
        "print(\"Complete with chatbot code\")"
      ]
    },
    {
      "cell_type": "code",
      "source": [
        "# prompt: compute the compound interest after 10 years at a rate of 5% and explain like i am 5\n",
        "\n",
        "# To find out how much your money grows with compound interest, it's like magic!\n",
        "# Imagine you have $100 and it grows by 5% every year.\n",
        "# This means each year, you get a little extra!\n",
        "\n",
        "# First year: $100 + ($100 * 5%) = $105\n",
        "# Second year: $105 + ($105 * 5%) = $110.25\n",
        "# And so on...\n",
        "\n",
        "# To calculate this in Python, we use a special thing called \"exponent\"\n",
        "# It's like a shortcut for multiplying a number by itself many times.\n",
        "\n",
        "# Here's how to calculate the compound interest after 10 years at a rate of 5%:\n",
        "principal = 100  # This is the starting amount of money\n",
        "rate = 0.05  # This is the interest rate (5% = 0.05)\n",
        "time = 10  # This is the number of years\n",
        "\n",
        "# Now, let's use the magic of exponents!\n",
        "amount = principal * (1 + rate)**time\n",
        "\n",
        "# This is the final amount after 10 years:\n",
        "print(amount)\n"
      ],
      "metadata": {
        "id": "xS3sm3tAzTi6",
        "outputId": "75440945-90c7-4558-f86f-46ab910a68b2",
        "colab": {
          "base_uri": "https://localhost:8080/"
        }
      },
      "execution_count": 26,
      "outputs": [
        {
          "output_type": "stream",
          "name": "stdout",
          "text": [
            "162.8894626777442\n"
          ]
        }
      ]
    },
    {
      "cell_type": "markdown",
      "metadata": {
        "id": "EV_nZSKeofgR"
      },
      "source": [
        "### Order of operations"
      ]
    },
    {
      "cell_type": "markdown",
      "metadata": {
        "id": "naIUDUFEofgS"
      },
      "source": [
        "The order of operations in Python is the same as in arithmetic. First, you compute parentheses, then exponents, then you multiply and divide (from left to right), and finally, you add and subtract (from left to right).\n",
        "\n",
        "So, if you are trying to convert from Fahrenheit to Celsius, the following cell will give you an incorrect answer:"
      ]
    },
    {
      "cell_type": "code",
      "execution_count": 29,
      "metadata": {
        "id": "euxGFMJWofgS",
        "outputId": "5b342dba-8651-4a08-dff0-db4a0d5998e7",
        "colab": {
          "base_uri": "https://localhost:8080/"
        }
      },
      "outputs": [
        {
          "output_type": "stream",
          "name": "stdout",
          "text": [
            "57.22222222222222\n"
          ]
        }
      ],
      "source": [
        "print(75 - 5 / 9 * 32)"
      ]
    },
    {
      "cell_type": "code",
      "source": [
        "# prompt: print(75 - 5 / 9 * 32) using bodmas rule conclude every step\n",
        "\n",
        "# Step 1: Division\n",
        "print(75 - 5 / 9 * 32)\n",
        "# Step 2: Multiplication\n",
        "print(75 - 5 / 9 * 32)\n",
        "# Step 3: Subtraction\n",
        "print(75 - 5 / 9 * 32)\n"
      ],
      "metadata": {
        "id": "EpodjN-l04BV",
        "outputId": "5c87332d-26e8-4c96-9117-5fa7aaec5552",
        "colab": {
          "base_uri": "https://localhost:8080/"
        }
      },
      "execution_count": 30,
      "outputs": [
        {
          "output_type": "stream",
          "name": "stdout",
          "text": [
            "57.22222222222222\n",
            "57.22222222222222\n",
            "57.22222222222222\n"
          ]
        }
      ]
    },
    {
      "cell_type": "markdown",
      "metadata": {
        "id": "7yK-VmMPofgS"
      },
      "source": [
        "Whereas the computation in this cell is correct."
      ]
    },
    {
      "cell_type": "code",
      "execution_count": 28,
      "metadata": {
        "id": "sFsqcL12ofgS",
        "outputId": "9ce884a9-0069-40da-f2d9-f30d6d1f929c",
        "colab": {
          "base_uri": "https://localhost:8080/"
        }
      },
      "outputs": [
        {
          "output_type": "stream",
          "name": "stdout",
          "text": [
            "23.88888888888889\n"
          ]
        }
      ],
      "source": [
        "print((75 - 32) * 5 / 9)"
      ]
    },
    {
      "cell_type": "markdown",
      "metadata": {
        "id": "Hpozid2oofgS"
      },
      "source": [
        "### Try for yourself!\n",
        "Try printing text with mixed numbers and letters, or just symbols, then check the type. Try multiline strings using the triple quotes. If you make any mistakes, as the chatbot for help."
      ]
    },
    {
      "cell_type": "code",
      "execution_count": 32,
      "metadata": {
        "id": "YK1BbayrofgS",
        "outputId": "77b0e6d3-2a44-4943-a763-fd40b6f3bf84",
        "colab": {
          "base_uri": "https://localhost:8080/"
        }
      },
      "outputs": [
        {
          "output_type": "stream",
          "name": "stdout",
          "text": [
            "usama\n"
          ]
        }
      ],
      "source": [
        "print(\"usama\")"
      ]
    },
    {
      "cell_type": "code",
      "execution_count": 33,
      "metadata": {
        "id": "_OBStXVVofgS",
        "outputId": "f824de41-b611-41e3-9d85-18b2f9bf1422",
        "colab": {
          "base_uri": "https://localhost:8080/"
        }
      },
      "outputs": [
        {
          "output_type": "execute_result",
          "data": {
            "text/plain": [
              "int"
            ]
          },
          "metadata": {},
          "execution_count": 33
        }
      ],
      "source": [
        "type(15)"
      ]
    },
    {
      "cell_type": "markdown",
      "metadata": {
        "id": "B-Ksjtc2ofgX"
      },
      "source": [
        "Fix the errors in the following code cells."
      ]
    },
    {
      "cell_type": "code",
      "execution_count": 31,
      "metadata": {
        "id": "Ea-RIOlFofgX",
        "outputId": "f877a193-724c-4193-c739-116b1ac08870",
        "colab": {
          "base_uri": "https://localhost:8080/"
        }
      },
      "outputs": [
        {
          "output_type": "stream",
          "name": "stdout",
          "text": [
            "There are 366 days in a leap year\n"
          ]
        }
      ],
      "source": [
        "# Fix the error in the following code\n",
        "print(\"There are 366 days in a leap year\")"
      ]
    },
    {
      "cell_type": "code",
      "execution_count": 34,
      "metadata": {
        "id": "vC4XFoRxofgX",
        "outputId": "495d9621-bb0b-4abe-f6ba-f5c27da205d1",
        "colab": {
          "base_uri": "https://localhost:8080/"
        }
      },
      "outputs": [
        {
          "output_type": "stream",
          "name": "stdout",
          "text": [
            "There are 366 \n",
            "days in a leap year\n"
          ]
        }
      ],
      "source": [
        "# Fix the error in the following code\n",
        "print(\"\"\"There are 366\n",
        "days in a leap year\"\"\")"
      ]
    },
    {
      "cell_type": "markdown",
      "metadata": {
        "id": "iau9J4PTofgY"
      },
      "source": [
        "A foot was defined as exactly 0.3048 meters in 1959. Convert 6 feet to meters."
      ]
    },
    {
      "cell_type": "code",
      "execution_count": 37,
      "metadata": {
        "id": "2cXhglqnofgY",
        "outputId": "763a3479-efb8-4e0c-f0bf-ad9031bdc002",
        "colab": {
          "base_uri": "https://localhost:8080/"
        }
      },
      "outputs": [
        {
          "output_type": "stream",
          "name": "stdout",
          "text": [
            "Convert 6 feet to meters\n",
            "1.8288000000000002\n"
          ]
        }
      ],
      "source": [
        "# Write code to convert 6 feet to meters\n",
        "print(\"Convert 6 feet to meters\")\n",
        "print(0.3048*6)"
      ]
    },
    {
      "cell_type": "code",
      "source": [
        "# prompt: Write code to convert 6 feet to meters\n",
        "\n",
        "feet = 6\n",
        "meters = feet * 0.3048\n",
        "print(meters)\n"
      ],
      "metadata": {
        "id": "8QTsIqP_18KZ",
        "outputId": "8dcc36b2-42a9-4707-a6d7-a2582750547b",
        "colab": {
          "base_uri": "https://localhost:8080/"
        }
      },
      "execution_count": 35,
      "outputs": [
        {
          "output_type": "stream",
          "name": "stdout",
          "text": [
            "1.8288000000000002\n"
          ]
        }
      ]
    }
  ],
  "metadata": {
    "kernelspec": {
      "display_name": "Python 3",
      "name": "python3"
    },
    "language_info": {
      "codemirror_mode": {
        "name": "ipython",
        "version": 3
      },
      "file_extension": ".py",
      "mimetype": "text/x-python",
      "name": "python",
      "nbconvert_exporter": "python",
      "pygments_lexer": "ipython3",
      "version": "3.9.19"
    },
    "colab": {
      "provenance": [],
      "gpuType": "T4"
    },
    "accelerator": "GPU"
  },
  "nbformat": 4,
  "nbformat_minor": 0
}