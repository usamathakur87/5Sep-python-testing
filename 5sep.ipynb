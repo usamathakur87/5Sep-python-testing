{
 "cells": [
  {
   "cell_type": "code",
   "execution_count": 12,
   "metadata": {},
   "outputs": [
    {
     "name": "stdout",
     "output_type": "stream",
     "text": [
      "Usama Thakur\n"
     ]
    }
   ],
   "source": [
    "name = \"Usama Thakur\"\n",
    "print(name)"
   ]
  },
  {
   "cell_type": "code",
   "execution_count": 13,
   "metadata": {},
   "outputs": [
    {
     "name": "stdout",
     "output_type": "stream",
     "text": [
      "Requirement already satisfied: mypy in /usr/local/lib/python3.12/site-packages (1.11.2)\n",
      "Requirement already satisfied: pylance in /usr/local/lib/python3.12/site-packages (0.16.1)\n",
      "Requirement already satisfied: typing-extensions>=4.6.0 in /usr/local/lib/python3.12/site-packages (from mypy) (4.12.2)\n",
      "Requirement already satisfied: mypy-extensions>=1.0.0 in /usr/local/lib/python3.12/site-packages (from mypy) (1.0.0)\n",
      "Requirement already satisfied: pyarrow>=12 in /usr/local/lib/python3.12/site-packages (from pylance) (17.0.0)\n",
      "Requirement already satisfied: numpy<2,>=1.22 in /usr/local/lib/python3.12/site-packages (from pylance) (1.26.4)\n",
      "\u001b[33mWARNING: Running pip as the 'root' user can result in broken permissions and conflicting behaviour with the system package manager, possibly rendering your system unusable.It is recommended to use a virtual environment instead: https://pip.pypa.io/warnings/venv. Use the --root-user-action option if you know what you are doing and want to suppress this warning.\u001b[0m\u001b[33m\n",
      "\u001b[0m"
     ]
    }
   ],
   "source": [
    "! pip install mypy pylance"
   ]
  },
  {
   "cell_type": "code",
   "execution_count": 14,
   "metadata": {},
   "outputs": [
    {
     "name": "stdout",
     "output_type": "stream",
     "text": [
      "Usama thakur\n"
     ]
    }
   ],
   "source": [
    "name:str = \"Usama Thakur\"\n",
    "\n",
    "print(name.capitalize())  # Capitalize the first letter of the string"
   ]
  },
  {
   "cell_type": "code",
   "execution_count": 15,
   "metadata": {},
   "outputs": [
    {
     "name": "stdout",
     "output_type": "stream",
     "text": [
      "usama thakur\n"
     ]
    }
   ],
   "source": [
    "name:str = \"USAMA THAKUR\"\n",
    "\n",
    "print(name.casefold())  # Convert the string to lowercase for case-insensitive comparisons"
   ]
  },
  {
   "cell_type": "code",
   "execution_count": 16,
   "metadata": {},
   "outputs": [
    {
     "name": "stdout",
     "output_type": "stream",
     "text": [
      "**************USAMA THAKUR**************\n"
     ]
    },
    {
     "data": {
      "text/plain": [
       "'**************USAMA THAKUR**************'"
      ]
     },
     "metadata": {},
     "output_type": "display_data"
    }
   ],
   "source": [
    "name:str = \"USAMA THAKUR\"\n",
    "\n",
    "print(name.center(40, \"*\"))  # Center the string within a field of width 40, padding with \"*\"\n",
    "display(name.center(40, \"*\"))  # Center the string within a field of width 40, padding with \"*\""
   ]
  },
  {
   "cell_type": "code",
   "execution_count": 17,
   "metadata": {},
   "outputs": [
    {
     "name": "stdout",
     "output_type": "stream",
     "text": [
      "0\n"
     ]
    }
   ],
   "source": [
    "name:str = \"USAMA THAKUR\"\n",
    "\n",
    "print(name.count(\"a\"))  # Count the occurrences of \"a\" in the string"
   ]
  },
  {
   "cell_type": "code",
   "execution_count": 18,
   "metadata": {},
   "outputs": [
    {
     "name": "stdout",
     "output_type": "stream",
     "text": [
      "b'USAMA THAKUR'\n"
     ]
    }
   ],
   "source": [
    "name:str = \"USAMA THAKUR\"\n",
    "\n",
    "print(name.encode())  # Encode the string using the default UTF-8 encoding"
   ]
  },
  {
   "cell_type": "code",
   "execution_count": 23,
   "metadata": {},
   "outputs": [
    {
     "name": "stdout",
     "output_type": "stream",
     "text": [
      "False\n"
     ]
    }
   ],
   "source": [
    "name:str = \"THAKUR\"\n",
    "\n",
    "print(name.endswith(\"a\"))  # Check if the string ends with \"r\""
   ]
  },
  {
   "cell_type": "code",
   "execution_count": 28,
   "metadata": {},
   "outputs": [
    {
     "name": "stdout",
     "output_type": "stream",
     "text": [
      "USAMA   THAKUR\n"
     ]
    }
   ],
   "source": [
    "name:str = \"USAMA   THAKUR\"\n",
    "\n",
    "print(name.expandtabs(4))  # Replace tabs with 4 spaces"
   ]
  },
  {
   "cell_type": "code",
   "execution_count": 21,
   "metadata": {},
   "outputs": [
    {
     "data": {
      "text/plain": [
       "<function print(*args, sep=' ', end='\\n', file=None, flush=False)>"
      ]
     },
     "execution_count": 21,
     "metadata": {},
     "output_type": "execute_result"
    }
   ],
   "source": [
    "name:str = \"USAMA THAKUR\"\n",
    "\n",
    "print"
   ]
  }
 ],
 "metadata": {
  "kernelspec": {
   "display_name": "Python 3",
   "language": "python",
   "name": "python3"
  },
  "language_info": {
   "codemirror_mode": {
    "name": "ipython",
    "version": 3
   },
   "file_extension": ".py",
   "mimetype": "text/x-python",
   "name": "python",
   "nbconvert_exporter": "python",
   "pygments_lexer": "ipython3",
   "version": "3.12.5"
  }
 },
 "nbformat": 4,
 "nbformat_minor": 2
}
